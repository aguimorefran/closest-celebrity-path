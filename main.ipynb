{
 "cells": [
  {
   "cell_type": "code",
   "execution_count": 51,
   "metadata": {},
   "outputs": [],
   "source": [
    "%reset -f\n",
    "import tweepy\n",
    "import pandas as pd\n",
    "import json\n",
    "import warnings\n",
    "import os\n",
    "import networkx as nx\n",
    "\n",
    "warnings.simplefilter(action='ignore', category=FutureWarning)\n"
   ]
  },
  {
   "cell_type": "code",
   "execution_count": 52,
   "metadata": {},
   "outputs": [],
   "source": [
    "# Load Twitter credentials\n",
    "api_keys = json.load(open('twitter-api-keys.local.json'))\n",
    "bearer_token = api_keys[\"bearer_token\"]\n",
    "client = tweepy.Client(\n",
    "    bearer_token=api_keys['bearer_token'], wait_on_rate_limit=True)\n",
    "\n",
    "auth = tweepy.OAuthHandler(\n",
    "    consumer_key=api_keys['api_key'],\n",
    "    consumer_secret=api_keys['api_key_secret'],\n",
    "    access_token=api_keys['access_token'],\n",
    "    access_token_secret=api_keys['access_token_secret'])\n",
    "api = tweepy.API(auth, wait_on_rate_limit=True)"
   ]
  },
  {
   "cell_type": "code",
   "execution_count": 53,
   "metadata": {},
   "outputs": [],
   "source": [
    "filename = 'twitter.csv'\n",
    "if filename in os.listdir('.'):\n",
    "    df = pd.read_csv(filename)\n",
    "else:\n",
    "    df = pd.DataFrame(columns=[\n",
    "        'id',\n",
    "        'screen_name',\n",
    "        'followers_count',\n",
    "        'following_count',\n",
    "        'verified',\n",
    "        'followers',\n",
    "        'friends',\n",
    "        'mutuals'])\n",
    "\n",
    "me = 'fcx_xm'\n",
    "exclude = 'vodafone_es'"
   ]
  },
  {
   "cell_type": "code",
   "execution_count": 54,
   "metadata": {},
   "outputs": [],
   "source": [
    "# Get my info and fill in the dataframe\n",
    "# check if my info is already in the dataframe\n",
    "if me not in df['screen_name'].values:\n",
    "    me_info = api.get_user(screen_name=me)\n",
    "    df = df.append({\n",
    "        'id': me_info.id,\n",
    "        'screen_name': me_info.screen_name,\n",
    "        'followers_count': me_info.followers_count,\n",
    "        'following_count': me_info.friends_count,\n",
    "        'verified': me_info.verified,\n",
    "        'followers': '',\n",
    "        'friends': ''}, ignore_index=True)\n"
   ]
  },
  {
   "cell_type": "code",
   "execution_count": 55,
   "metadata": {},
   "outputs": [],
   "source": [
    "def get_followers(screen_name):\n",
    "    print('Getting followers')\n",
    "    global df\n",
    "    if not (df.loc[df['screen_name'] == screen_name, 'followers'].values[0] != '' and pd.isna(df.loc[df['screen_name'] == screen_name, 'followers'].values[0])):\n",
    "        print('- Already have followers for ' + screen_name)\n",
    "        return\n",
    "\n",
    "    ids = []\n",
    "    for fid in tweepy.Cursor(api.get_follower_ids, screen_name=screen_name, count=5000).items():\n",
    "        ids.append(fid)\n",
    "\n",
    "    info = []\n",
    "    for i in range(0, len(ids), 100):\n",
    "        try:\n",
    "            chunk = ids[i:i+100]\n",
    "            print('- Getting followers info for chunk ' + str(i) + ' to ' +\n",
    "                  str(i+100) + ' of ' + str(len(ids)) + ' for ' + screen_name)\n",
    "            info.extend(api.lookup_users(user_id=chunk))\n",
    "        except:\n",
    "            import traceback\n",
    "            traceback.print_exc()\n",
    "            print('Something went wrong, skipping...')\n",
    "\n",
    "    followers_list = {}\n",
    "    for i in info:\n",
    "        followers_list[i.id] = i.screen_name\n",
    "        if i.id not in df['id'].values:\n",
    "            df = df.append({\n",
    "                'id': i.id,\n",
    "                'screen_name': i.screen_name,\n",
    "                'followers_count': i.followers_count,\n",
    "                'following_count': i.friends_count,\n",
    "                'verified': i.verified,\n",
    "                'followers': '',\n",
    "                'friends': ''},\n",
    "                ignore_index=True)\n",
    "\n",
    "    df.loc[df['screen_name'] == screen_name,\n",
    "           'followers'] = json.dumps(followers_list)\n",
    "    df.to_csv(filename, index=False)\n"
   ]
  },
  {
   "cell_type": "code",
   "execution_count": 56,
   "metadata": {},
   "outputs": [
    {
     "data": {
      "text/plain": [
       "True"
      ]
     },
     "execution_count": 56,
     "metadata": {},
     "output_type": "execute_result"
    }
   ],
   "source": [
    "df.loc[df['screen_name'] == me, 'friends'].values[0] != '' or pd.isna(df.loc[df['screen_name'] == me, 'friends'].values[0])"
   ]
  },
  {
   "cell_type": "code",
   "execution_count": 57,
   "metadata": {},
   "outputs": [],
   "source": [
    "def get_friends(screen_name):\n",
    "    print('Getting friends')\n",
    "    global df\n",
    "\n",
    "    # check if df has any row\n",
    "\n",
    "    if not (df.loc[df['screen_name'] == screen_name, 'friends'].values[0] != '' and pd.isna(df.loc[df['screen_name'] == screen_name, 'friends'].values[0])):\n",
    "        print('- Already have friends for ' + screen_name)\n",
    "        return \n",
    "\n",
    "    ids = []\n",
    "    for fid in tweepy.Cursor(api.get_friend_ids, screen_name=screen_name, count=5000).items():\n",
    "        ids.append(fid)\n",
    "    \n",
    "    info = []\n",
    "    for i in range(0, len(ids), 100):\n",
    "        try:\n",
    "            chunk = ids[i:i+100]\n",
    "            # print chunk and len of ids\n",
    "            print('- Getting friends info for chunk ' + str(i) + ' to ' + str(i+100) + ' of ' + str(len(ids)) + ' for ' + screen_name)\n",
    "            info.extend(api.lookup_users(user_id=chunk))\n",
    "        except:\n",
    "            import traceback\n",
    "            traceback.print_exc()\n",
    "            print('Something went wrong, skipping...')\n",
    "\n",
    "    followers_list = {}\n",
    "    for i in info:\n",
    "        followers_list[i.id] = i.screen_name\n",
    "        if i.id not in df['id'].values:\n",
    "            df = df.append({\n",
    "                'id': i.id,\n",
    "                'screen_name': i.screen_name,\n",
    "                'followers_count': i.followers_count,\n",
    "                'following_count': i.friends_count,\n",
    "                'verified': i.verified,\n",
    "                'followers': '',\n",
    "                'friends': ''},\n",
    "                ignore_index=True)\n",
    "\n",
    "    df.loc[df['screen_name'] == screen_name,\n",
    "           'friends'] = json.dumps(followers_list)\n",
    "    df.to_csv(filename, index=False)\n"
   ]
  },
  {
   "cell_type": "code",
   "execution_count": 58,
   "metadata": {},
   "outputs": [],
   "source": [
    "def get_mutuals(screen_name):\n",
    "    global df\n",
    "    get_followers(screen_name)\n",
    "    # check if followers is string, if so, load it as json\n",
    "    followers = json.loads(\n",
    "        df.loc[df['screen_name'] == screen_name, 'followers'].values[0])\n",
    "\n",
    "    get_friends(screen_name)\n",
    "    friends = json.loads(\n",
    "        df.loc[df['screen_name'] == screen_name, 'friends'].values[0])\n",
    "    mutuals = {k: v for k, v in followers.items() if k in friends}\n",
    "    df.loc[df['screen_name'] == screen_name, 'mutuals'] = json.dumps(mutuals)"
   ]
  },
  {
   "cell_type": "code",
   "execution_count": 59,
   "metadata": {},
   "outputs": [],
   "source": [
    "def build_mutuals_df(screen_name):\n",
    "    global df\n",
    "    mutuals_df = pd.DataFrame(columns=['id', 'screen_name'])\n",
    "    mutuals_json = json.loads(\n",
    "        df.loc[df['screen_name'] == screen_name, 'mutuals'].values[0])\n",
    "    for k, v in mutuals_json.items():\n",
    "        mutuals_df = mutuals_df.append({'id': int(k), 'screen_name': v}, ignore_index=True)\n",
    "    # Merge left join\n",
    "    mutuals_df = mutuals_df.merge(df, on='id', how='left').drop(mutuals_df.columns[mutuals_df.columns.str.endswith('_y')], axis=1).rename(columns=lambda x: x[:-2] if x.endswith('_x') else x)\n",
    "    return mutuals_df"
   ]
  },
  {
   "cell_type": "code",
   "execution_count": 60,
   "metadata": {},
   "outputs": [],
   "source": [
    "def get_filtered_users(mutuals_df, rules):\n",
    "    global df\n",
    "    mutuals_matching = []\n",
    "    verified = []\n",
    "    min_followers = [] \n",
    "    for index, row in mutuals_df.iterrows():\n",
    "        if row['screen_name'] not in exclude and 'verified' in rules and row['verified'] == rules['verified']:\n",
    "            verified.append(row['id'])\n",
    "        # check min_followers\n",
    "        if row['screen_name'] not in exclude and 'min_followers' in rules and row['followers_count'] >= rules['min_followers']:\n",
    "            min_followers.append(row['id'])\n",
    "    \n",
    "    # save in mutuals_matching those who match all rules\n",
    "    mutuals_matching = list(set(verified) & set(min_followers))\n",
    "    return mutuals_matching"
   ]
  },
  {
   "cell_type": "code",
   "execution_count": 61,
   "metadata": {},
   "outputs": [],
   "source": [
    "def save_path(path, rules):\n",
    "    filename = 'built_paths.json'\n",
    "    # check if file exists\n",
    "    if os.path.isfile(filename):\n",
    "        with open(filename, 'r') as f:\n",
    "            data = json.load(f)\n",
    "    else:\n",
    "        data = {}\n",
    "\n",
    "    # Stringify rules json\n",
    "    rules = json.dumps(rules)\n",
    "\n",
    "    obj = {\n",
    "        'rules': rules,\n",
    "        'dst': path[-1],\n",
    "        'path': path\n",
    "    }\n",
    "    \n",
    "    # Check if data[rules] exists and add obj to it if it does not exist\n",
    "    if rules in data:\n",
    "        if obj not in data[path[0]]:\n",
    "            data[path[0]] = obj\n",
    "    else:\n",
    "        data[path[0]] = [obj]\n",
    "\n",
    "    with open(filename, 'w') as f:\n",
    "        json.dump(data, f)\n"
   ]
  },
  {
   "cell_type": "code",
   "execution_count": 62,
   "metadata": {},
   "outputs": [
    {
     "name": "stdout",
     "output_type": "stream",
     "text": [
      "Getting shortest path to celeb\n",
      "----------------- Iteration 1 -----------------\n",
      "Current user: fcx_xm\n",
      "Getting followers\n",
      "- Already have followers for fcx_xm\n",
      "Getting friends\n",
      "- Already have friends for fcx_xm\n",
      "No matching users found\n",
      "Built path: ['fcx_xm', 'Meescapo']\n",
      "----------------- Iteration 2 -----------------\n",
      "Current user: Meescapo\n",
      "Getting followers\n",
      "- Already have followers for Meescapo\n",
      "Getting friends\n",
      "- Already have friends for Meescapo\n",
      "Matching user with most followers: Loulogio_Pi, with 310410 followers\n",
      "Built path: ['fcx_xm', 'Meescapo', 'Loulogio_Pi']\n"
     ]
    },
    {
     "data": {
      "text/plain": [
       "['fcx_xm', 'Meescapo', 'Loulogio_Pi']"
      ]
     },
     "execution_count": 62,
     "metadata": {},
     "output_type": "execute_result"
    }
   ],
   "source": [
    "def shortest_path_to_celeb():\n",
    "    global df\n",
    "    print('Getting shortest path to celeb')\n",
    "    path = []\n",
    "    max_depth = 3\n",
    "    rules = {'verified': True, 'min_followers': 1e5}\n",
    "    found = False\n",
    "    i = 0\n",
    "    # Starting with me\n",
    "    current_user = me\n",
    "    path.append(current_user)\n",
    "    while ((len(path) <= max_depth) and (not found)):\n",
    "        i += 1\n",
    "        print('----------------- Iteration ' + str(i) + ' -----------------')\n",
    "        print('Current user: {}'.format(current_user))\n",
    "        get_mutuals(current_user)\n",
    "        mutuals_df = build_mutuals_df(current_user)\n",
    "\n",
    "        mutuals_matching = get_filtered_users(mutuals_df, rules)\n",
    "        \n",
    "        # TODO: add backtracking when max_depth is reached and no match is found\n",
    "        if len(mutuals_matching) == 0:\n",
    "            print('No matching users found')\n",
    "            current_user = mutuals_df.sort_values(\n",
    "                'followers_count', ascending=False).iloc[0]['screen_name']\n",
    "            path.append(current_user)\n",
    "        else:\n",
    "            most_followers = mutuals_df.sort_values(\n",
    "                'followers_count', ascending=False).iloc[0]\n",
    "            path.append(most_followers['screen_name'])\n",
    "\n",
    "            print('Matching user with most followers: {}, with {} followers'.format(\n",
    "                most_followers['screen_name'], most_followers['followers_count']))\n",
    "\n",
    "            found = True\n",
    "\n",
    "        \n",
    "        print('Built path: {}'.format(path))\n",
    "        save_path(path, rules)\n",
    "    \n",
    "    return path\n",
    "\n",
    "shortest_path_to_celeb()"
   ]
  },
  {
   "cell_type": "code",
   "execution_count": null,
   "metadata": {},
   "outputs": [],
   "source": [
    "# TODO\n",
    "# - iterate built paths for user and rules. make as many graphs as given until reached\n"
   ]
  }
 ],
 "metadata": {
  "interpreter": {
   "hash": "98b4e038adc903dcfa74c36feaf6d0ff7293941fce970844b0fb7ba5a679f8a1"
  },
  "kernelspec": {
   "display_name": "Python 3.9.12 ('closes-celebrity-path')",
   "language": "python",
   "name": "python3"
  },
  "language_info": {
   "codemirror_mode": {
    "name": "ipython",
    "version": 3
   },
   "file_extension": ".py",
   "mimetype": "text/x-python",
   "name": "python",
   "nbconvert_exporter": "python",
   "pygments_lexer": "ipython3",
   "version": "3.9.12"
  },
  "orig_nbformat": 4
 },
 "nbformat": 4,
 "nbformat_minor": 2
}
