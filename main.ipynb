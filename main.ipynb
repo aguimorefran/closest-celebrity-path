{
 "cells": [
  {
   "cell_type": "code",
   "execution_count": 78,
   "metadata": {},
   "outputs": [],
   "source": [
    "import networkx as nx\n",
    "import sqlite3\n",
    "from tqdm import tqdm\n",
    "import warnings\n",
    "import json\n",
    "import pandas as pd\n",
    "import tweepy\n",
    "import pydot\n",
    "import numpy as np\n",
    "from matplotlib import pyplot as plt\n",
    "\n",
    "warnings.simplefilter(action='ignore', category=FutureWarning)\n"
   ]
  },
  {
   "cell_type": "code",
   "execution_count": 52,
   "metadata": {},
   "outputs": [],
   "source": [
    "# Load Twitter credentials\n",
    "api_keys = json.load(open('twitter-api-keys.local.json'))\n",
    "bearer_token = api_keys[\"bearer_token\"]\n",
    "client = tweepy.Client(\n",
    "    bearer_token=api_keys['bearer_token'], wait_on_rate_limit=True)\n",
    "\n",
    "auth = tweepy.OAuthHandler(\n",
    "    consumer_key=api_keys['api_key'],\n",
    "    consumer_secret=api_keys['api_key_secret'],\n",
    "    access_token=api_keys['access_token'],\n",
    "    access_token_secret=api_keys['access_token_secret'])\n",
    "api = tweepy.API(auth, wait_on_rate_limit=True)\n"
   ]
  },
  {
   "cell_type": "code",
   "execution_count": 53,
   "metadata": {},
   "outputs": [
    {
     "data": {
      "text/plain": [
       "<sqlite3.Cursor at 0x1b1ce01ece0>"
      ]
     },
     "execution_count": 53,
     "metadata": {},
     "output_type": "execute_result"
    }
   ],
   "source": [
    "# Create databases and tables\n",
    "conn = sqlite3.connect('twitter.db')\n",
    "c = conn.cursor()\n",
    "c.execute('''CREATE TABLE IF NOT EXISTS users\n",
    "                (id INTEGER PRIMARY KEY NOT NULL,\n",
    "                screen_name TEXT NOT NULL,\n",
    "                followers_count INTEGER,\n",
    "                following_count INTEGER,\n",
    "                verified INTEGER,\n",
    "                followers TEXT DEFALUT '',\n",
    "                friends TEXT DEFALUT '',\n",
    "                mutuals TEXT DEFALUT '')''')\n"
   ]
  },
  {
   "cell_type": "code",
   "execution_count": 54,
   "metadata": {},
   "outputs": [],
   "source": [
    "# # delete database\n",
    "# c.execute('''DROP TABLE IF EXISTS paths''')\n",
    "# conn.commit()"
   ]
  },
  {
   "cell_type": "code",
   "execution_count": 123,
   "metadata": {},
   "outputs": [],
   "source": [
    "me = 'fcx_xm'\n",
    "me_info = api.get_user(screen_name=me)\n",
    "c.execute('''INSERT OR IGNORE INTO users\n",
    "                (id, screen_name, followers_count, following_count, verified)\n",
    "                VALUES (?, ?, ?, ?, ?)''',\n",
    "                (me_info.id, me_info.screen_name, me_info.followers_count,\n",
    "                me_info.friends_count, me_info.verified))\n",
    "conn.commit()\n",
    "\n",
    "def fetch(screen_name, type):\n",
    "    \"\"\"\n",
    "    Fetch the followers or friends of a user.\n",
    "    \"\"\"\n",
    "    f = []\n",
    "    if type == 'followers':\n",
    "        f = c.execute('''SELECT followers FROM users WHERE screen_name = ?''', (screen_name,)).fetchone()[0]\n",
    "    elif type == 'friends':\n",
    "        f = c.execute('''SELECT friends FROM users WHERE screen_name = ?''', (screen_name,)).fetchone()[0]\n",
    "    elif type == 'mutuals':\n",
    "        f = c.execute('''SELECT mutuals FROM users WHERE screen_name = ?''', (screen_name,)).fetchone()[0]\n",
    "    return json.loads(f) if f else None\n"
   ]
  },
  {
   "cell_type": "code",
   "execution_count": 56,
   "metadata": {},
   "outputs": [],
   "source": [
    "# Create errors table with id, method, username, error\n",
    "def save_error(method, username, error):\n",
    "    if 'KeyboardInterrupt' in error:\n",
    "        return\n",
    "    c.execute('''CREATE TABLE IF NOT EXISTS errors\n",
    "                (id INTEGER PRIMARY KEY NOT NULL,\n",
    "                method TEXT NOT NULL,\n",
    "                username TEXT NOT NULL,\n",
    "                error TEXT NOT NULL,\n",
    "                timestamp TEXT NOT NULL,\n",
    "                fixed INTEGER DEFAULT 0)''')\n",
    "    c.execute('''INSERT INTO errors\n",
    "                (method, username, error, timestamp)\n",
    "                VALUES (?, ?, ?, ?)''',\n",
    "                (method, username, error, str(pd.Timestamp.now())))\n",
    "    conn.commit()\n",
    "\n",
    "\n",
    "def get_followers(screen_name, override):\n",
    "    \"\"\"\n",
    "    Get followers for a user. Builds database. If override is True, will overwrite existing followers. May be slow due to rate limits.    \n",
    "    \"\"\"\n",
    "    print('Getting followers for ' + screen_name)\n",
    "    \n",
    "    if fetch(screen_name, 'followers') != None and not override:\n",
    "        print('- Already have friends for ' + screen_name)\n",
    "        return \n",
    "\n",
    "    ids = []\n",
    "    for fid in tweepy.Cursor(api.get_follower_ids, screen_name=screen_name, count=5000).items():\n",
    "        ids.append(fid)\n",
    "    \n",
    "    info = []\n",
    "    for i in tqdm(range(0, len(ids), 100)):\n",
    "        try:\n",
    "            chunk = ids[i:i+100]\n",
    "            info.extend(api.lookup_users(user_id=chunk))\n",
    "        except:\n",
    "            import traceback\n",
    "            traceback.print_exc()\n",
    "            print('Something went wrong, skipping...')\n",
    "            save_error('get_friends', screen_name, traceback.format_exc())\n",
    "\n",
    "    followers_list = {}\n",
    "    for i in info:\n",
    "        followers_list[i.id] = i.screen_name\n",
    "        c.execute('''INSERT OR IGNORE INTO users\n",
    "                        (id, screen_name, followers_count, following_count, verified)\n",
    "                        VALUES (?, ?, ?, ?, ?)''',\n",
    "                        (i.id, i.screen_name, i.followers_count, i.friends_count, i.verified))\n",
    "    c.execute('''UPDATE users SET followers = ? WHERE screen_name = ?''',\n",
    "                (json.dumps(followers_list), screen_name))\n",
    "    conn.commit()\n",
    "\n",
    "def get_friends(screen_name, override):\n",
    "    \"\"\"\n",
    "    Get friends for a user. Builds database. If override is True, will overwrite existing friends. May be slow due to rate limits.\n",
    "    \"\"\"\n",
    "    print('Getting friends for ' + screen_name)\n",
    "\n",
    "    if fetch(screen_name, 'friends') != None and not override:\n",
    "        print('- Already have friends for ' + screen_name)\n",
    "        return \n",
    "\n",
    "    ids = []\n",
    "    for fid in tweepy.Cursor(api.get_friend_ids, screen_name=screen_name, count=5000).items():\n",
    "        ids.append(fid)\n",
    "    \n",
    "    info = []\n",
    "    # Progress bar for getting friends info\n",
    "    for i in tqdm(range(0, len(ids), 100)):\n",
    "        try:\n",
    "            chunk = ids[i:i+100]\n",
    "            info.extend(api.lookup_users(user_id=chunk))\n",
    "        except:\n",
    "            import traceback\n",
    "            traceback.print_exc()\n",
    "            print('Something went wrong, skipping...')\n",
    "            save_error('get_friends', screen_name, traceback.format_exc())\n",
    "\n",
    "    friends_list = {}\n",
    "    for i in info:\n",
    "        friends_list[i.id] = i.screen_name\n",
    "        c.execute('''INSERT OR IGNORE INTO users\n",
    "                        (id, screen_name, followers_count, following_count, verified)\n",
    "                        VALUES (?, ?, ?, ?, ?)''',\n",
    "                        (i.id, i.screen_name, i.followers_count, i.friends_count, i.verified))\n",
    "                        \n",
    "    c.execute('''UPDATE users SET friends = ? WHERE screen_name = ?''',\n",
    "                (json.dumps(friends_list), screen_name))\n",
    "    conn.commit()\n",
    "\n",
    "def get_mutuals(screen_name, override):\n",
    "    \"\"\"\n",
    "    Get mutuals for a user. Builds database.\n",
    "    \"\"\"\n",
    "    get_followers(screen_name, override)\n",
    "    followers = fetch(screen_name, 'followers')\n",
    "    get_friends(screen_name, override)\n",
    "    friends = fetch(screen_name, 'friends')\n",
    "    mutuals = followers.keys() & friends.keys()\n",
    "    mutuals = {k: friends[k] for k in mutuals}\n",
    "\n",
    "    c.execute('''UPDATE users SET mutuals = ? WHERE screen_name = ?''',\n",
    "                (json.dumps(mutuals), screen_name))\n",
    "    conn.commit()\n"
   ]
  },
  {
   "cell_type": "code",
   "execution_count": 57,
   "metadata": {},
   "outputs": [],
   "source": [
    "def build_mutuals_df(screen_name):\n",
    "    \"\"\"\n",
    "    Returns a dataframe of mutuals to the given username with their respective info.\n",
    "    \"\"\"\n",
    "    mutuals_json = json.loads(c.execute('''SELECT mutuals FROM users WHERE screen_name = ?''', (screen_name,)).fetchone()[0])\n",
    "    return pd.read_sql_query('''SELECT * FROM users WHERE id IN ({})'''.format(','.join(map(str, mutuals_json.keys()))), conn)\n"
   ]
  },
  {
   "cell_type": "code",
   "execution_count": 58,
   "metadata": {},
   "outputs": [],
   "source": [
    "def get_filtered_users(mutuals_df, rules, exclude):\n",
    "    \"\"\"\n",
    "    Checks if user meets the rules and excludes the ones that do not. Returns a dataframe of users.\n",
    "    \"\"\"\n",
    "    mutuals_matching = []\n",
    "    verified = []\n",
    "    min_followers = []\n",
    "    for index, row in mutuals_df.iterrows():\n",
    "        if row['screen_name'] not in exclude and 'verified' in rules and row['verified'] == rules['verified']:\n",
    "            verified.append(row['id'])\n",
    "        if row['screen_name'] not in exclude and 'min_followers' in rules and row['followers_count'] >= rules['min_followers']:\n",
    "            min_followers.append(row['id'])\n",
    "\n",
    "    mutuals_matching = list(set(verified) & set(min_followers))\n",
    "    mutuals_matching_df = mutuals_df.loc[mutuals_df['id'].isin(\n",
    "        mutuals_matching)]\n",
    "    return mutuals_matching_df"
   ]
  },
  {
   "cell_type": "code",
   "execution_count": 59,
   "metadata": {},
   "outputs": [],
   "source": [
    "def save_path(path, rules):\n",
    "    \"\"\"\n",
    "    Save path to database if it doesn't exist.\n",
    "    \"\"\"\n",
    "    c.execute('''CREATE TABLE IF NOT EXISTS paths (\n",
    "        id INTEGER PRIMARY KEY,\n",
    "        path TEXT,\n",
    "        rules TEXT,\n",
    "        src TEXT,\n",
    "        dst TEXT,\n",
    "        length INTEGER\n",
    "        )''')\n",
    "\n",
    "    src = path[0]\n",
    "    dst = path[-1]\n",
    "    length = len(path)\n",
    "    path_json = json.dumps(path)\n",
    "    rules_json = json.dumps(rules)\n",
    "    # Check if already exists\n",
    "    if c.execute('''SELECT * FROM paths WHERE path = ? AND rules = ? AND src = ? AND dst = ? AND length = ?''',\n",
    "                 (path_json, rules_json, src, dst, length)).fetchone() == None:\n",
    "        c.execute('''INSERT INTO paths (path, rules, src, dst, length) VALUES (?, ?, ?, ?, ?)''',\n",
    "                  (path_json, rules_json, src, dst, length))\n",
    "        conn.commit()"
   ]
  },
  {
   "cell_type": "code",
   "execution_count": null,
   "metadata": {},
   "outputs": [],
   "source": [
    "def get_stored_paths(screen_name):\n",
    "    \"\"\"\n",
    "    Selects all paths from the database that have the given screen_name as src.\n",
    "    \"\"\"\n",
    "    paths = []\n",
    "    c.execute('''SELECT * FROM paths WHERE src = ?''', (screen_name,))\n",
    "    for row in c.fetchall():\n",
    "        paths.append(json.loads(row[1]))\n",
    "    return paths"
   ]
  },
  {
   "cell_type": "code",
   "execution_count": 113,
   "metadata": {},
   "outputs": [],
   "source": [
    "def shortest_path_to_celeb(exclude, override):\n",
    "    \"\"\"\n",
    "    Finds the shortest path from the user to the celebrity with most users, building a path and saving it to the database along the info of the path's users.\n",
    "    \"\"\"\n",
    "    path = []\n",
    "    max_depth = 3\n",
    "    rules = {'verified': True, 'min_followers': 1e5}\n",
    "    found = False\n",
    "    i = 0\n",
    "    current_user = me\n",
    "    path.append(current_user)\n",
    "    while ((len(path) <= max_depth) and (not found)):\n",
    "        i += 1\n",
    "        print('Current user: {}'.format(current_user))\n",
    "        get_mutuals(current_user, override)\n",
    "        mutuals_df = build_mutuals_df(current_user)\n",
    "\n",
    "        mutuals_matching = get_filtered_users(mutuals_df, rules, exclude)\n",
    "\n",
    "        # TODO: add backtracking when max_depth is reached and no match is found or max depth is reached\n",
    "        if len(mutuals_matching) == 0:\n",
    "            print('No matching users found')\n",
    "            mutuals_df = mutuals_df.loc[~mutuals_df['screen_name'].isin(\n",
    "                exclude)]\n",
    "            current_user = mutuals_df.sort_values(\n",
    "                'followers_count', ascending=False).iloc[0]['screen_name']\n",
    "            path.append(current_user)\n",
    "        else:\n",
    "            most_followers = mutuals_matching.sort_values(\n",
    "                'followers_count', ascending=False).iloc[0]\n",
    "            path.append(most_followers['screen_name'])\n",
    "\n",
    "            print('Matching user with most followers: {}, with {} followers. Rules being {}'.format(\n",
    "                most_followers['screen_name'], most_followers['followers_count'], rules))\n",
    "\n",
    "            found = True\n",
    "\n",
    "        print('Built path: {}'.format(path))\n",
    "\n",
    "    save_path(path, rules)\n",
    "    return path\n",
    "\n",
    "def get_more_celebs():\n",
    "    \"\"\"\n",
    "    Get more celebrities from the database. Main function takes only the most popular.\n",
    "    \"\"\"\n",
    "    paths = get_stored_paths(me)\n",
    "    for path in paths:\n",
    "        path_df = build_mutuals_df(path[-2])\n",
    "        path_df = get_filtered_users(path_df, {'verified': True, 'min_followers': 1e5}, [])\n",
    "        path_df = path_df.loc[~path_df['screen_name'].isin(path)]\n",
    "        for index, row in path_df.iterrows():\n",
    "            p = path[:-1]\n",
    "            p.append(row['screen_name'])\n",
    "            save_path(p, {'verified': True, 'min_followers': 1e5})\n"
   ]
  },
  {
   "cell_type": "code",
   "execution_count": 73,
   "metadata": {},
   "outputs": [
    {
     "name": "stdout",
     "output_type": "stream",
     "text": [
      "5 paths found for fcx_xm:\n",
      "- fcx_xm, Meescapo, Loulogio_Pi\n",
      "- fcx_xm, bunnana99, littleragergirl\n",
      "- fcx_xm, mellamoae, levmauc, auronplay\n",
      "- fcx_xm, tooclosefor, SoyAmargada, AlejandroSanz\n",
      "- fcx_xm, NinoskaDarko, WipeHomophobia\n"
     ]
    }
   ],
   "source": [
    "max_paths = 5\n",
    "exclude_users = ['vodafone_es']\n",
    "user_paths = c.execute('''SELECT * FROM paths WHERE src = ?''',\n",
    "                            (me,)).fetchall()\n",
    "n_paths = len(user_paths)\n",
    "\n",
    "while n_paths < max_paths:\n",
    "    user_paths = c.execute('''SELECT * FROM paths WHERE src = ?''',\n",
    "                            (me,)).fetchall()\n",
    "    n_paths = len(user_paths)\n",
    "    print('{} paths found'.format(n_paths))\n",
    "    for p in user_paths:\n",
    "        path = json.loads(p[1])\n",
    "        exclude_users += path[1:]\n",
    "\n",
    "    new_path = shortest_path_to_celeb(exclude_users, False)\n",
    "\n",
    "n_paths = len(user_paths)\n",
    "print('{} paths found for {}:'.format(n_paths, me))\n",
    "for p in user_paths:\n",
    "    path = json.loads(p[1])\n",
    "    print('- ' + ', '.join(path))"
   ]
  },
  {
   "cell_type": "code",
   "execution_count": 148,
   "metadata": {},
   "outputs": [],
   "source": [
    "from networkx.drawing.nx_agraph import graphviz_layout\n",
    "\n",
    "def path_as_edges(path):\n",
    "    edges = []\n",
    "    for i in range(len(path) - 1):\n",
    "        edges.append((path[i], path[i+1]))\n",
    "    return edges\n"
   ]
  },
  {
   "cell_type": "code",
   "execution_count": 149,
   "metadata": {},
   "outputs": [
    {
     "name": "stdout",
     "output_type": "stream",
     "text": [
      "Graph with 22 nodes and 24 edges\n"
     ]
    },
    {
     "data": {
      "image/png": "[encoded data removed]",
      "text/plain": [
       "<Figure size 432x288 with 1 Axes>"
      ]
     },
     "metadata": {},
     "output_type": "display_data"
    }
   ],
   "source": [
    "# Get graph data\n",
    "G = nx.Graph()\n",
    "\n",
    "max_leaves = 20\n",
    "most_followers_celebs = [x[0] for x in c.execute('''SELECT dst FROM paths JOIN users ON paths.dst = users.screen_name WHERE src = ? ORDER BY users.followers_count DESC LIMIT ?''', (me, max_leaves)).fetchall()]\n",
    "paths = get_stored_paths(me)\n",
    "paths = [x for x in paths if x[-1] in most_followers_celebs]\n",
    "\n",
    "for path in paths:\n",
    "    G.add_nodes_from(path)\n",
    "    G.add_edges_from(path_as_edges(path))\n"
   ]
  },
  {
   "cell_type": "code",
   "execution_count": 177,
   "metadata": {},
   "outputs": [
    {
     "ename": "TypeError",
     "evalue": "cannot unpack non-iterable Figure object",
     "output_type": "error",
     "traceback": [
      "\u001b[1;31m---------------------------------------------------------------------------\u001b[0m",
      "\u001b[1;31mTypeError\u001b[0m                                 Traceback (most recent call last)",
      "\u001b[1;32mc:\\Users\\Fco\\closest-celebrity-path\\main.ipynb Cell 15'\u001b[0m in \u001b[0;36m<cell line: 22>\u001b[1;34m()\u001b[0m\n\u001b[0;32m     <a href='vscode-notebook-cell:/c%3A/Users/Fco/closest-celebrity-path/main.ipynb#ch0000019?line=18'>19</a>\u001b[0m \u001b[39m# twopi for circular tree, dot for normal tree\u001b[39;00m\n\u001b[0;32m     <a href='vscode-notebook-cell:/c%3A/Users/Fco/closest-celebrity-path/main.ipynb#ch0000019?line=19'>20</a>\u001b[0m \u001b[39m# Set title and subtitle\u001b[39;00m\n\u001b[0;32m     <a href='vscode-notebook-cell:/c%3A/Users/Fco/closest-celebrity-path/main.ipynb#ch0000019?line=20'>21</a>\u001b[0m pos \u001b[39m=\u001b[39m graphviz_layout(G, prog\u001b[39m=\u001b[39m\u001b[39m'\u001b[39m\u001b[39mtwopi\u001b[39m\u001b[39m'\u001b[39m)\n\u001b[1;32m---> <a href='vscode-notebook-cell:/c%3A/Users/Fco/closest-celebrity-path/main.ipynb#ch0000019?line=21'>22</a>\u001b[0m fig, ax \u001b[39m=\u001b[39m plt\u001b[39m.\u001b[39mfigure(figsize\u001b[39m=\u001b[39m(\u001b[39m12\u001b[39m, \u001b[39m12\u001b[39m))\n\u001b[0;32m     <a href='vscode-notebook-cell:/c%3A/Users/Fco/closest-celebrity-path/main.ipynb#ch0000019?line=22'>23</a>\u001b[0m ax\u001b[39m.\u001b[39mset_title(\u001b[39m'\u001b[39m\u001b[39m{}\u001b[39;00m\u001b[39m'\u001b[39m\u001b[39m.\u001b[39mformat(me))\n\u001b[0;32m     <a href='vscode-notebook-cell:/c%3A/Users/Fco/closest-celebrity-path/main.ipynb#ch0000019?line=23'>24</a>\u001b[0m nx\u001b[39m.\u001b[39mdraw_networkx_nodes(G, pos, node_size\u001b[39m=\u001b[39mnode_sizes, node_color\u001b[39m=\u001b[39mcolor_map, alpha\u001b[39m=\u001b[39m\u001b[39m0.5\u001b[39m)\n",
      "\u001b[1;31mTypeError\u001b[0m: cannot unpack non-iterable Figure object"
     ]
    },
    {
     "data": {
      "text/plain": [
       "<Figure size 864x864 with 0 Axes>"
      ]
     },
     "metadata": {},
     "output_type": "display_data"
    }
   ],
   "source": [
    "# Print graph\n",
    "color_map = []\n",
    "node_sizes = []\n",
    "\n",
    "for node in G:\n",
    "    c.execute('''SELECT followers_count FROM users WHERE screen_name = ?''', (node,))\n",
    "    node_sizes.append(np.log2(c.fetchone()[0])*300)\n",
    "    # if node is me then red\n",
    "    if node == me:\n",
    "        color_map.append('r')\n",
    "    # if node has only one connection then green\n",
    "    elif node in most_followers_celebs:\n",
    "        color_map.append('g')\n",
    "    else:\n",
    "        color_map.append('b')\n",
    "\n",
    "edge_widths = [5] * len(G.edges())\n",
    "\n",
    "# twopi for circular tree, dot for normal tree\n",
    "# Set title and subtitle\n",
    "pos = graphviz_layout(G, prog='twopi')\n",
    "plt.figure(figsize=(12, 12))\n",
    "nx.draw_networkx_nodes(G, pos, node_size=node_sizes, node_color=color_map, alpha=0.5)\n",
    "nx.draw_networkx_labels(G, pos, font_size=10, font_color='k', font_family='sans-serif', font_weight='bold')\n",
    "nx.draw_networkx_edges(G, pos, edge_color='grey', width=edge_widths, alpha=0.3)\n",
    "plt.show()"
   ]
  }
 ],
 "metadata": {
  "interpreter": {
   "hash": "98b4e038adc903dcfa74c36feaf6d0ff7293941fce970844b0fb7ba5a679f8a1"
  },
  "kernelspec": {
   "display_name": "Python 3.9.12 ('closes-celebrity-path')",
   "language": "python",
   "name": "python3"
  },
  "language_info": {
   "codemirror_mode": {
    "name": "ipython",
    "version": 3
   },
   "file_extension": ".py",
   "mimetype": "text/x-python",
   "name": "python",
   "nbconvert_exporter": "python",
   "pygments_lexer": "ipython3",
   "version": "3.9.12"
  },
  "orig_nbformat": 4
 },
 "nbformat": 4,
 "nbformat_minor": 2
}
